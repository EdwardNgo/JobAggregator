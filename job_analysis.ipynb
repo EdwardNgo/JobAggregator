{
 "cells": [
  {
   "cell_type": "code",
   "execution_count": 3,
   "id": "intermediate-tender",
   "metadata": {},
   "outputs": [],
   "source": [
    "import sys,os\n",
    "sys.path.append(os.path.abspath(os.path.join(sys.path[0], 'utils')))\n",
    "sys.path.append(os.path.abspath(os.path.join(sys.path[0], 'db_helper')))\n",
    "sys.path.append('../')\n",
    "from mongo_helper import *\n",
    "from utils import *\n",
    "import pandas as pd\n",
    "import matplotlib.pyplot as plt\n",
    "import seaborn as sns"
   ]
  },
  {
   "cell_type": "code",
   "execution_count": 4,
   "id": "vertical-delta",
   "metadata": {},
   "outputs": [],
   "source": [
    "test = Job(client = pymongo.MongoClient(\"mongodb://localhost:27017/\") ,db = pymongo.MongoClient(\"mongodb://localhost:27017/\")[\"Job_Aggregator\"])"
   ]
  },
  {
   "cell_type": "code",
   "execution_count": 5,
   "id": "great-attachment",
   "metadata": {},
   "outputs": [],
   "source": [
    "data = test.getJobData('site_job')"
   ]
  },
  {
   "cell_type": "code",
   "execution_count": 6,
   "id": "assisted-softball",
   "metadata": {},
   "outputs": [],
   "source": [
    "df = pd.DataFrame.from_records(data)\n",
    "df.reset_index(level=0, inplace=True)"
   ]
  },
  {
   "cell_type": "code",
   "execution_count": 7,
   "id": "extensive-frost",
   "metadata": {},
   "outputs": [],
   "source": [
    "def normalizeCity(city):\n",
    "    city = city.replace('Khu vực: ','')\n",
    "    if 'Hà Nội' in city and 'Hồ Chí Minh' not in city or 'Ha Noi' in city:\n",
    "        return 'Hà Nội'\n",
    "    if 'Hồ Chí Minh' in city and 'Hà Nội' not in city or 'Ho Chi Minh' in city:\n",
    "        return 'Tp Hồ Chí Minh'\n",
    "    if city == '':\n",
    "        return 'remote'\n",
    "    return city\n",
    "def getMonthYear(date_str):\n",
    "    month = date_str.split('/')[1]\n",
    "    if month[0] == '0':\n",
    "        month = month.replace('0','')\n",
    "    year = date_str.split('/')[2]\n",
    "    return  month + '-' + year\n",
    "# print(normalizeCity('Khu vực: An Giang, Bạc Liêu, Bến Tre, Cà Mau, Cần Thơ, Đồng Tháp, Hậu Giang, Kiên Giang, Sóc Trăng, Tiền Giang, Trà Vinh, Vĩnh Long'))"
   ]
  },
  {
   "cell_type": "code",
   "execution_count": 8,
   "id": "committed-opera",
   "metadata": {},
   "outputs": [
    {
     "name": "stdout",
     "output_type": "stream",
     "text": [
      "Hà Nội                 6461\n",
      "Tp Hồ Chí Minh         5094\n",
      "Đà Nẵng                 203\n",
      "Hà Nội, Hồ Chí Minh     194\n",
      "Bình Dương              102\n",
      "Name: city, dtype: int64\n",
      "<class 'pandas.core.series.Series'>\n"
     ]
    }
   ],
   "source": [
    "#thong ke viec lam theo thanh pho\n",
    "\n",
    "city = df['city'].apply(normalizeCity).value_counts()\n",
    "print(city[:5])\n",
    "print(type(city))"
   ]
  },
  {
   "cell_type": "code",
   "execution_count": 9,
   "id": "pressed-curtis",
   "metadata": {},
   "outputs": [],
   "source": [
    "top5_city = city[:5]"
   ]
  },
  {
   "cell_type": "code",
   "execution_count": 10,
   "id": "coastal-providence",
   "metadata": {},
   "outputs": [
    {
     "data": {
      "text/plain": [
       "<AxesSubplot:title={'center':'top 5 region with the most recruitment'}>"
      ]
     },
     "execution_count": 10,
     "metadata": {},
     "output_type": "execute_result"
    },
    {
     "data": {
      "image/png": "[encoded data removed]",
      "text/plain": [
       "<Figure size 432x288 with 1 Axes>"
      ]
     },
     "metadata": {
      "needs_background": "light"
     },
     "output_type": "display_data"
    }
   ],
   "source": [
    "top5_city.plot(x ='city',y='num_job', kind = 'bar',title = 'top 5 region with the most recruitment')"
   ]
  },
  {
   "cell_type": "code",
   "execution_count": 11,
   "id": "overhead-cincinnati",
   "metadata": {},
   "outputs": [],
   "source": [
    "df['month'] = df['update_time'].apply(getMonthYear)"
   ]
  },
  {
   "cell_type": "code",
   "execution_count": 12,
   "id": "broad-poultry",
   "metadata": {},
   "outputs": [
    {
     "data": {
      "text/plain": [
       "<AxesSubplot:title={'center':'recruiment news of first 3 months 2021'}>"
      ]
     },
     "execution_count": 12,
     "metadata": {},
     "output_type": "execute_result"
    },
    {
     "data": {
      "image/png": "[encoded data removed]",
      "text/plain": [
       "<Figure size 432x288 with 1 Axes>"
      ]
     },
     "metadata": {
      "needs_background": "light"
     },
     "output_type": "display_data"
    }
   ],
   "source": [
    "monthly_recruitment = df['month'].value_counts()\n",
    "monthly_recruitment[:3].plot(kind = 'bar',title = 'recruiment news of first 3 months 2021')"
   ]
  },
  {
   "cell_type": "code",
   "execution_count": 13,
   "id": "hundred-method",
   "metadata": {},
   "outputs": [],
   "source": [
    "def titleNormalize(title):\n",
    "    it_title = ['python','frontend','Java','.Net','tester','data engineer','iOS','React Native','PHP','Nodejs','golang','Ui/Ux','Backend']\n",
    "    for keyword in it_title:\n",
    "        if keyword in title:\n",
    "            return keyword\n",
    "    return title"
   ]
  },
  {
   "cell_type": "code",
   "execution_count": 14,
   "id": "disciplinary-encyclopedia",
   "metadata": {},
   "outputs": [
    {
     "data": {
      "text/plain": [
       "<AxesSubplot:title={'center':'top recruitment title'}>"
      ]
     },
     "execution_count": 14,
     "metadata": {},
     "output_type": "execute_result"
    },
    {
     "data": {
      "image/png": "[encoded data removed]",
      "text/plain": [
       "<Figure size 432x288 with 1 Axes>"
      ]
     },
     "metadata": {
      "needs_background": "light"
     },
     "output_type": "display_data"
    }
   ],
   "source": [
    "df['title'] = df['title'].apply(titleNormalize)\n",
    "df['title'].value_counts()[:15].plot(kind = 'bar',title = 'top recruitment title')"
   ]
  },
  {
   "cell_type": "code",
   "execution_count": 15,
   "id": "phantom-funeral",
   "metadata": {},
   "outputs": [
    {
     "data": {
      "text/plain": [
       "3174"
      ]
     },
     "execution_count": 15,
     "metadata": {},
     "output_type": "execute_result"
    }
   ],
   "source": [
    "len(df[df['salary'] != '']['salary'])"
   ]
  },
  {
   "cell_type": "code",
   "execution_count": 16,
   "id": "incredible-vegetation",
   "metadata": {},
   "outputs": [
    {
     "data": {
      "text/plain": [
       "<AxesSubplot:title={'center':'Top 15 company with most recruitment news'}>"
      ]
     },
     "execution_count": 16,
     "metadata": {},
     "output_type": "execute_result"
    },
    {
     "data": {
      "image/png": "[encoded data removed]",
      "text/plain": [
       "<Figure size 432x288 with 1 Axes>"
      ]
     },
     "metadata": {
      "needs_background": "light"
     },
     "output_type": "display_data"
    }
   ],
   "source": [
    "top_company = df['company'].apply(lambda x: x.lower()).value_counts()[:20]\n",
    "top_company[:15].plot(kind = 'bar',title = 'Top 15 company with most recruitment news')"
   ]
  },
  {
   "cell_type": "code",
   "execution_count": 17,
   "id": "surrounded-fetish",
   "metadata": {},
   "outputs": [
    {
     "data": {
      "text/html": [
       "<div>\n",
       "<style scoped>\n",
       "    .dataframe tbody tr th:only-of-type {\n",
       "        vertical-align: middle;\n",
       "    }\n",
       "\n",
       "    .dataframe tbody tr th {\n",
       "        vertical-align: top;\n",
       "    }\n",
       "\n",
       "    .dataframe thead th {\n",
       "        text-align: right;\n",
       "    }\n",
       "</style>\n",
       "<table border=\"1\" class=\"dataframe\">\n",
       "  <thead>\n",
       "    <tr style=\"text-align: right;\">\n",
       "      <th></th>\n",
       "      <th>index</th>\n",
       "      <th>_id</th>\n",
       "      <th>url</th>\n",
       "      <th>title</th>\n",
       "      <th>img</th>\n",
       "      <th>city</th>\n",
       "      <th>salary</th>\n",
       "      <th>update_time</th>\n",
       "      <th>company</th>\n",
       "      <th>month</th>\n",
       "    </tr>\n",
       "  </thead>\n",
       "  <tbody>\n",
       "    <tr>\n",
       "      <th>0</th>\n",
       "      <td>0</td>\n",
       "      <td>6044347f5148e140475143f9</td>\n",
       "      <td>https://www.topcv.vn/viec-lam/chuyen-vien-seo-...</td>\n",
       "      <td>Chuyên Viên Seo Marketing (Thu Nhập 10 - 15 Tr...</td>\n",
       "      <td>https://static.topcv.vn/company_logos/cong-ty-...</td>\n",
       "      <td>Khu vực: Hà Nội</td>\n",
       "      <td></td>\n",
       "      <td>07/03/2021</td>\n",
       "      <td>CÔNG TY TNHH THƯƠNG MẠI VÀ XÂY LẮP MEIKO</td>\n",
       "      <td>3-2021</td>\n",
       "    </tr>\n",
       "    <tr>\n",
       "      <th>1</th>\n",
       "      <td>1</td>\n",
       "      <td>6044347f5148e140475143fa</td>\n",
       "      <td>https://www.topcv.vn/viec-lam/it-recruiter-chu...</td>\n",
       "      <td>IT Recruiter - Chuyên Viên Tuyển Dụng</td>\n",
       "      <td>https://static.topcv.vn/company_logos/cong-ty-...</td>\n",
       "      <td>Khu vực: Hà Nội</td>\n",
       "      <td></td>\n",
       "      <td>07/03/2021</td>\n",
       "      <td>Công ty cổ phần dịch vụ Thành Công Software</td>\n",
       "      <td>3-2021</td>\n",
       "    </tr>\n",
       "    <tr>\n",
       "      <th>2</th>\n",
       "      <td>2</td>\n",
       "      <td>6044347f5148e140475143fb</td>\n",
       "      <td>https://www.topcv.vn/viec-lam/front-end-develo...</td>\n",
       "      <td>Front-End Developer (Lập Trình Viên Frontend)</td>\n",
       "      <td>https://static.topcv.vn/company_logos/cong-ty-...</td>\n",
       "      <td>Khu vực: Hà Nội</td>\n",
       "      <td></td>\n",
       "      <td>07/03/2021</td>\n",
       "      <td>Công ty cổ phần công nghệ BLAMEO Việt Nam</td>\n",
       "      <td>3-2021</td>\n",
       "    </tr>\n",
       "    <tr>\n",
       "      <th>3</th>\n",
       "      <td>3</td>\n",
       "      <td>6044347f5148e140475143fc</td>\n",
       "      <td>https://www.topcv.vn/viec-lam/nhan-vien-kinh-d...</td>\n",
       "      <td>Nhân Viên Kinh Doanh (Thu Nhập 10 - 20 Triệu)</td>\n",
       "      <td>https://static.topcv.vn/company_logos/cong-ty-...</td>\n",
       "      <td>Khu vực: Hà Nội</td>\n",
       "      <td></td>\n",
       "      <td>07/03/2021</td>\n",
       "      <td>Công ty Cổ phần Công nghệ và Giải pháp trực tu...</td>\n",
       "      <td>3-2021</td>\n",
       "    </tr>\n",
       "    <tr>\n",
       "      <th>4</th>\n",
       "      <td>4</td>\n",
       "      <td>6044347f5148e140475143fd</td>\n",
       "      <td>https://www.topcv.vn/viec-lam/lap-trinh-vien-p...</td>\n",
       "      <td>PHP</td>\n",
       "      <td>https://static.topcv.vn/company_logos/cong-ty-...</td>\n",
       "      <td>Khu vực: Hà Nội</td>\n",
       "      <td></td>\n",
       "      <td>07/03/2021</td>\n",
       "      <td>Công ty khởi nghiệp công nghệ Nội Dung Số</td>\n",
       "      <td>3-2021</td>\n",
       "    </tr>\n",
       "    <tr>\n",
       "      <th>...</th>\n",
       "      <td>...</td>\n",
       "      <td>...</td>\n",
       "      <td>...</td>\n",
       "      <td>...</td>\n",
       "      <td>...</td>\n",
       "      <td>...</td>\n",
       "      <td>...</td>\n",
       "      <td>...</td>\n",
       "      <td>...</td>\n",
       "      <td>...</td>\n",
       "    </tr>\n",
       "    <tr>\n",
       "      <th>12885</th>\n",
       "      <td>12885</td>\n",
       "      <td>60443746b94051b3e825b80d</td>\n",
       "      <td>https://itviec.com/it-jobs/agile-delivery-coor...</td>\n",
       "      <td>Agile Delivery Coordinator</td>\n",
       "      <td>https://itviec.com/rails/active_storage/repres...</td>\n",
       "      <td>Ho Chi Minh</td>\n",
       "      <td></td>\n",
       "      <td>12/01/2021</td>\n",
       "      <td>Be Group Vietnam Small Logo</td>\n",
       "      <td>1-2021</td>\n",
       "    </tr>\n",
       "    <tr>\n",
       "      <th>12886</th>\n",
       "      <td>12886</td>\n",
       "      <td>60443746b94051b3e825b80e</td>\n",
       "      <td>https://itviec.com/it-jobs/03-ai-machine-learn...</td>\n",
       "      <td>03 AI/ Machine Learning Engineers</td>\n",
       "      <td>https://itviec.com/rails/active_storage/repres...</td>\n",
       "      <td>Ho Chi Minh</td>\n",
       "      <td></td>\n",
       "      <td>12/01/2021</td>\n",
       "      <td>Vulcan Labs Vietnam Small Logo</td>\n",
       "      <td>1-2021</td>\n",
       "    </tr>\n",
       "    <tr>\n",
       "      <th>12887</th>\n",
       "      <td>12887</td>\n",
       "      <td>60443746b94051b3e825b80f</td>\n",
       "      <td>https://itviec.com/it-jobs/05-sr-android-devel...</td>\n",
       "      <td>05 Sr Android Developers - Up to $2000</td>\n",
       "      <td>https://itviec.com/rails/active_storage/repres...</td>\n",
       "      <td>Ho Chi Minh</td>\n",
       "      <td></td>\n",
       "      <td>12/01/2021</td>\n",
       "      <td>Vulcan Labs Vietnam Small Logo</td>\n",
       "      <td>1-2021</td>\n",
       "    </tr>\n",
       "    <tr>\n",
       "      <th>12888</th>\n",
       "      <td>12888</td>\n",
       "      <td>60443746b94051b3e825b810</td>\n",
       "      <td>https://itviec.com/it-jobs/04-sr-ios-developer...</td>\n",
       "      <td>iOS</td>\n",
       "      <td>https://itviec.com/rails/active_storage/repres...</td>\n",
       "      <td>Ho Chi Minh</td>\n",
       "      <td></td>\n",
       "      <td>12/01/2021</td>\n",
       "      <td>Vulcan Labs Vietnam Small Logo</td>\n",
       "      <td>1-2021</td>\n",
       "    </tr>\n",
       "    <tr>\n",
       "      <th>12889</th>\n",
       "      <td>12889</td>\n",
       "      <td>60443746b94051b3e825b811</td>\n",
       "      <td>https://itviec.com/it-jobs/02-business-analyst...</td>\n",
       "      <td>02 Business Analyst (Product Designer)</td>\n",
       "      <td>https://itviec.com/rails/active_storage/repres...</td>\n",
       "      <td>Ho Chi Minh</td>\n",
       "      <td></td>\n",
       "      <td>12/01/2021</td>\n",
       "      <td>Go2Joy Vietnam Small Logo</td>\n",
       "      <td>1-2021</td>\n",
       "    </tr>\n",
       "  </tbody>\n",
       "</table>\n",
       "<p>12890 rows × 10 columns</p>\n",
       "</div>"
      ],
      "text/plain": [
       "       index                       _id  \\\n",
       "0          0  6044347f5148e140475143f9   \n",
       "1          1  6044347f5148e140475143fa   \n",
       "2          2  6044347f5148e140475143fb   \n",
       "3          3  6044347f5148e140475143fc   \n",
       "4          4  6044347f5148e140475143fd   \n",
       "...      ...                       ...   \n",
       "12885  12885  60443746b94051b3e825b80d   \n",
       "12886  12886  60443746b94051b3e825b80e   \n",
       "12887  12887  60443746b94051b3e825b80f   \n",
       "12888  12888  60443746b94051b3e825b810   \n",
       "12889  12889  60443746b94051b3e825b811   \n",
       "\n",
       "                                                     url  \\\n",
       "0      https://www.topcv.vn/viec-lam/chuyen-vien-seo-...   \n",
       "1      https://www.topcv.vn/viec-lam/it-recruiter-chu...   \n",
       "2      https://www.topcv.vn/viec-lam/front-end-develo...   \n",
       "3      https://www.topcv.vn/viec-lam/nhan-vien-kinh-d...   \n",
       "4      https://www.topcv.vn/viec-lam/lap-trinh-vien-p...   \n",
       "...                                                  ...   \n",
       "12885  https://itviec.com/it-jobs/agile-delivery-coor...   \n",
       "12886  https://itviec.com/it-jobs/03-ai-machine-learn...   \n",
       "12887  https://itviec.com/it-jobs/05-sr-android-devel...   \n",
       "12888  https://itviec.com/it-jobs/04-sr-ios-developer...   \n",
       "12889  https://itviec.com/it-jobs/02-business-analyst...   \n",
       "\n",
       "                                                   title  \\\n",
       "0      Chuyên Viên Seo Marketing (Thu Nhập 10 - 15 Tr...   \n",
       "1                  IT Recruiter - Chuyên Viên Tuyển Dụng   \n",
       "2          Front-End Developer (Lập Trình Viên Frontend)   \n",
       "3          Nhân Viên Kinh Doanh (Thu Nhập 10 - 20 Triệu)   \n",
       "4                                                    PHP   \n",
       "...                                                  ...   \n",
       "12885                         Agile Delivery Coordinator   \n",
       "12886                  03 AI/ Machine Learning Engineers   \n",
       "12887             05 Sr Android Developers - Up to $2000   \n",
       "12888                                                iOS   \n",
       "12889             02 Business Analyst (Product Designer)   \n",
       "\n",
       "                                                     img             city  \\\n",
       "0      https://static.topcv.vn/company_logos/cong-ty-...  Khu vực: Hà Nội   \n",
       "1      https://static.topcv.vn/company_logos/cong-ty-...  Khu vực: Hà Nội   \n",
       "2      https://static.topcv.vn/company_logos/cong-ty-...  Khu vực: Hà Nội   \n",
       "3      https://static.topcv.vn/company_logos/cong-ty-...  Khu vực: Hà Nội   \n",
       "4      https://static.topcv.vn/company_logos/cong-ty-...  Khu vực: Hà Nội   \n",
       "...                                                  ...              ...   \n",
       "12885  https://itviec.com/rails/active_storage/repres...      Ho Chi Minh   \n",
       "12886  https://itviec.com/rails/active_storage/repres...      Ho Chi Minh   \n",
       "12887  https://itviec.com/rails/active_storage/repres...      Ho Chi Minh   \n",
       "12888  https://itviec.com/rails/active_storage/repres...      Ho Chi Minh   \n",
       "12889  https://itviec.com/rails/active_storage/repres...      Ho Chi Minh   \n",
       "\n",
       "      salary update_time                                            company  \\\n",
       "0             07/03/2021           CÔNG TY TNHH THƯƠNG MẠI VÀ XÂY LẮP MEIKO   \n",
       "1             07/03/2021        Công ty cổ phần dịch vụ Thành Công Software   \n",
       "2             07/03/2021          Công ty cổ phần công nghệ BLAMEO Việt Nam   \n",
       "3             07/03/2021  Công ty Cổ phần Công nghệ và Giải pháp trực tu...   \n",
       "4             07/03/2021          Công ty khởi nghiệp công nghệ Nội Dung Số   \n",
       "...      ...         ...                                                ...   \n",
       "12885         12/01/2021                        Be Group Vietnam Small Logo   \n",
       "12886         12/01/2021                     Vulcan Labs Vietnam Small Logo   \n",
       "12887         12/01/2021                     Vulcan Labs Vietnam Small Logo   \n",
       "12888         12/01/2021                     Vulcan Labs Vietnam Small Logo   \n",
       "12889         12/01/2021                          Go2Joy Vietnam Small Logo   \n",
       "\n",
       "        month  \n",
       "0      3-2021  \n",
       "1      3-2021  \n",
       "2      3-2021  \n",
       "3      3-2021  \n",
       "4      3-2021  \n",
       "...       ...  \n",
       "12885  1-2021  \n",
       "12886  1-2021  \n",
       "12887  1-2021  \n",
       "12888  1-2021  \n",
       "12889  1-2021  \n",
       "\n",
       "[12890 rows x 10 columns]"
      ]
     },
     "execution_count": 17,
     "metadata": {},
     "output_type": "execute_result"
    }
   ],
   "source": [
    "df"
   ]
  },
  {
   "cell_type": "code",
   "execution_count": null,
   "id": "minus-boring",
   "metadata": {},
   "outputs": [],
   "source": []
  },
  {
   "cell_type": "code",
   "execution_count": null,
   "id": "commercial-documentation",
   "metadata": {},
   "outputs": [],
   "source": []
  },
  {
   "cell_type": "code",
   "execution_count": null,
   "id": "italian-environment",
   "metadata": {},
   "outputs": [],
   "source": []
  }
 ],
 "metadata": {
  "kernelspec": {
   "display_name": "venv",
   "language": "python",
   "name": "venv"
  },
  "language_info": {
   "codemirror_mode": {
    "name": "ipython",
    "version": 3
   },
   "file_extension": ".py",
   "mimetype": "text/x-python",
   "name": "python",
   "nbconvert_exporter": "python",
   "pygments_lexer": "ipython3",
   "version": "3.8.5"
  }
 },
 "nbformat": 4,
 "nbformat_minor": 5
}
